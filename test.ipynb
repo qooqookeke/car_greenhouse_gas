{
 "cells": [
  {
   "cell_type": "code",
   "execution_count": 4,
   "id": "f526e364",
   "metadata": {},
   "outputs": [],
   "source": [
    "import pandas as pd\n",
    "import numpy as np\n",
    "import matplotlib.pyplot as plt\n",
    "import seaborn as sb"
   ]
  },
  {
   "cell_type": "code",
   "execution_count": 29,
   "id": "228b45a9",
   "metadata": {},
   "outputs": [],
   "source": [
    "df = pd.read_csv('./data/library_data.csv', encoding='euc-kr')"
   ]
  },
  {
   "cell_type": "code",
   "execution_count": 30,
   "id": "7d40949d",
   "metadata": {},
   "outputs": [
    {
     "data": {
      "text/html": [
       "<div>\n",
       "<style scoped>\n",
       "    .dataframe tbody tr th:only-of-type {\n",
       "        vertical-align: middle;\n",
       "    }\n",
       "\n",
       "    .dataframe tbody tr th {\n",
       "        vertical-align: top;\n",
       "    }\n",
       "\n",
       "    .dataframe thead th {\n",
       "        text-align: right;\n",
       "    }\n",
       "</style>\n",
       "<table border=\"1\" class=\"dataframe\">\n",
       "  <thead>\n",
       "    <tr style=\"text-align: right;\">\n",
       "      <th></th>\n",
       "      <th>도서관명</th>\n",
       "      <th>시도명</th>\n",
       "      <th>시군구명</th>\n",
       "      <th>도서관유형</th>\n",
       "      <th>휴관일</th>\n",
       "      <th>평일운영시작시각</th>\n",
       "      <th>평일운영종료시각</th>\n",
       "      <th>토요일운영시작시각</th>\n",
       "      <th>토요일운영종료시각</th>\n",
       "      <th>공휴일운영시작시각</th>\n",
       "      <th>...</th>\n",
       "      <th>운영기관명</th>\n",
       "      <th>도서관전화번호</th>\n",
       "      <th>부지면적</th>\n",
       "      <th>건물면적</th>\n",
       "      <th>홈페이지주소</th>\n",
       "      <th>위도</th>\n",
       "      <th>경도</th>\n",
       "      <th>데이터기준일자</th>\n",
       "      <th>제공기관코드</th>\n",
       "      <th>제공기관명</th>\n",
       "    </tr>\n",
       "  </thead>\n",
       "  <tbody>\n",
       "    <tr>\n",
       "      <th>0</th>\n",
       "      <td>이석영뉴미디어도서관</td>\n",
       "      <td>경기도</td>\n",
       "      <td>남양주시</td>\n",
       "      <td>공공도서관</td>\n",
       "      <td>둘째·넷째 금요일+1월 1일+설날·추석 연휴(대체공휴일 포함)</td>\n",
       "      <td>09:00</td>\n",
       "      <td>22:00</td>\n",
       "      <td>09:00</td>\n",
       "      <td>18:00</td>\n",
       "      <td>09:00</td>\n",
       "      <td>...</td>\n",
       "      <td>사단법인 문화현상</td>\n",
       "      <td>031-595-8390</td>\n",
       "      <td>1843.0</td>\n",
       "      <td>4877.0</td>\n",
       "      <td>http://lib.nyj.go.kr/lsy</td>\n",
       "      <td>37.658160</td>\n",
       "      <td>127.299532</td>\n",
       "      <td>2023-04-30</td>\n",
       "      <td>3990000</td>\n",
       "      <td>경기도 남양주시</td>\n",
       "    </tr>\n",
       "    <tr>\n",
       "      <th>1</th>\n",
       "      <td>가평군 한석봉도서관</td>\n",
       "      <td>경기도</td>\n",
       "      <td>가평군</td>\n",
       "      <td>공공도서관</td>\n",
       "      <td>1월 1일+설 연휴+추석연휴</td>\n",
       "      <td>07:00</td>\n",
       "      <td>23:59</td>\n",
       "      <td>07:00</td>\n",
       "      <td>23:59</td>\n",
       "      <td>07:00</td>\n",
       "      <td>...</td>\n",
       "      <td>경기도 가평군</td>\n",
       "      <td>031-580-4041</td>\n",
       "      <td>7485.0</td>\n",
       "      <td>3602.0</td>\n",
       "      <td>www.gaplib.go.kr</td>\n",
       "      <td>37.829691</td>\n",
       "      <td>127.506433</td>\n",
       "      <td>2023-06-21</td>\n",
       "      <td>4160000</td>\n",
       "      <td>경기도 가평군</td>\n",
       "    </tr>\n",
       "    <tr>\n",
       "      <th>2</th>\n",
       "      <td>가평군 설악도서관</td>\n",
       "      <td>경기도</td>\n",
       "      <td>가평군</td>\n",
       "      <td>공공도서관</td>\n",
       "      <td>1월 1일+설 연휴+추석연휴</td>\n",
       "      <td>07:00</td>\n",
       "      <td>23:59</td>\n",
       "      <td>07:00</td>\n",
       "      <td>23:59</td>\n",
       "      <td>07:00</td>\n",
       "      <td>...</td>\n",
       "      <td>경기도 가평군</td>\n",
       "      <td>031-580-4313</td>\n",
       "      <td>3693.0</td>\n",
       "      <td>1470.0</td>\n",
       "      <td>www.gaplib.go.kr</td>\n",
       "      <td>37.683315</td>\n",
       "      <td>127.491015</td>\n",
       "      <td>2023-06-21</td>\n",
       "      <td>4160000</td>\n",
       "      <td>경기도 가평군</td>\n",
       "    </tr>\n",
       "    <tr>\n",
       "      <th>3</th>\n",
       "      <td>가평군 청평도서관</td>\n",
       "      <td>경기도</td>\n",
       "      <td>가평군</td>\n",
       "      <td>공공도서관</td>\n",
       "      <td>1월 1일+설 연휴+추석연휴</td>\n",
       "      <td>07:00</td>\n",
       "      <td>23:59</td>\n",
       "      <td>07:00</td>\n",
       "      <td>23:59</td>\n",
       "      <td>07:00</td>\n",
       "      <td>...</td>\n",
       "      <td>경기도 가평군</td>\n",
       "      <td>031-580-4332</td>\n",
       "      <td>4500.0</td>\n",
       "      <td>2486.0</td>\n",
       "      <td>www.gaplib.go.kr</td>\n",
       "      <td>37.739591</td>\n",
       "      <td>127.424230</td>\n",
       "      <td>2023-06-21</td>\n",
       "      <td>4160000</td>\n",
       "      <td>경기도 가평군</td>\n",
       "    </tr>\n",
       "    <tr>\n",
       "      <th>4</th>\n",
       "      <td>가평군 조종도서관</td>\n",
       "      <td>경기도</td>\n",
       "      <td>가평군</td>\n",
       "      <td>공공도서관</td>\n",
       "      <td>1월 1일+설 연휴+추석연휴</td>\n",
       "      <td>07:00</td>\n",
       "      <td>23:59</td>\n",
       "      <td>07:00</td>\n",
       "      <td>23:59</td>\n",
       "      <td>07:00</td>\n",
       "      <td>...</td>\n",
       "      <td>경기도 가평군</td>\n",
       "      <td>031-580-4301</td>\n",
       "      <td>2692.0</td>\n",
       "      <td>1502.0</td>\n",
       "      <td>www.gaplib.go.kr</td>\n",
       "      <td>37.818290</td>\n",
       "      <td>127.352981</td>\n",
       "      <td>2023-06-21</td>\n",
       "      <td>4160000</td>\n",
       "      <td>경기도 가평군</td>\n",
       "    </tr>\n",
       "    <tr>\n",
       "      <th>...</th>\n",
       "      <td>...</td>\n",
       "      <td>...</td>\n",
       "      <td>...</td>\n",
       "      <td>...</td>\n",
       "      <td>...</td>\n",
       "      <td>...</td>\n",
       "      <td>...</td>\n",
       "      <td>...</td>\n",
       "      <td>...</td>\n",
       "      <td>...</td>\n",
       "      <td>...</td>\n",
       "      <td>...</td>\n",
       "      <td>...</td>\n",
       "      <td>...</td>\n",
       "      <td>...</td>\n",
       "      <td>...</td>\n",
       "      <td>...</td>\n",
       "      <td>...</td>\n",
       "      <td>...</td>\n",
       "      <td>...</td>\n",
       "      <td>...</td>\n",
       "    </tr>\n",
       "    <tr>\n",
       "      <th>3658</th>\n",
       "      <td>책돌이도서관</td>\n",
       "      <td>광주광역시</td>\n",
       "      <td>북구</td>\n",
       "      <td>작은도서관</td>\n",
       "      <td>일</td>\n",
       "      <td>11:00</td>\n",
       "      <td>17:00</td>\n",
       "      <td>11:00</td>\n",
       "      <td>17:00</td>\n",
       "      <td>00:00</td>\n",
       "      <td>...</td>\n",
       "      <td>NaN</td>\n",
       "      <td>062-266-7279</td>\n",
       "      <td>NaN</td>\n",
       "      <td>99.0</td>\n",
       "      <td>https://www.smalllibrary.org/library/detail/10...</td>\n",
       "      <td>35.185846</td>\n",
       "      <td>126.905078</td>\n",
       "      <td>2023-08-11</td>\n",
       "      <td>3620000</td>\n",
       "      <td>광주광역시 북구</td>\n",
       "    </tr>\n",
       "    <tr>\n",
       "      <th>3659</th>\n",
       "      <td>책향기작은도서관</td>\n",
       "      <td>광주광역시</td>\n",
       "      <td>북구</td>\n",
       "      <td>작은도서관</td>\n",
       "      <td>일</td>\n",
       "      <td>10:00</td>\n",
       "      <td>19:00</td>\n",
       "      <td>10:00</td>\n",
       "      <td>15:00</td>\n",
       "      <td>00:00</td>\n",
       "      <td>...</td>\n",
       "      <td>NaN</td>\n",
       "      <td>062-573-1357</td>\n",
       "      <td>NaN</td>\n",
       "      <td>66.0</td>\n",
       "      <td>https://www.smalllibrary.org/library/detail/10...</td>\n",
       "      <td>35.190376</td>\n",
       "      <td>126.889310</td>\n",
       "      <td>2023-08-11</td>\n",
       "      <td>3620000</td>\n",
       "      <td>광주광역시 북구</td>\n",
       "    </tr>\n",
       "    <tr>\n",
       "      <th>3660</th>\n",
       "      <td>첨단자이2단지작은도서관</td>\n",
       "      <td>광주광역시</td>\n",
       "      <td>북구</td>\n",
       "      <td>작은도서관</td>\n",
       "      <td>토+일</td>\n",
       "      <td>09:00</td>\n",
       "      <td>18:00</td>\n",
       "      <td>00:00</td>\n",
       "      <td>00:00</td>\n",
       "      <td>00:00</td>\n",
       "      <td>...</td>\n",
       "      <td>NaN</td>\n",
       "      <td>062-575-4451</td>\n",
       "      <td>NaN</td>\n",
       "      <td>46.1</td>\n",
       "      <td>https://www.smalllibrary.org/library/detail/10...</td>\n",
       "      <td>35.211195</td>\n",
       "      <td>126.869272</td>\n",
       "      <td>2023-08-11</td>\n",
       "      <td>3620000</td>\n",
       "      <td>광주광역시 북구</td>\n",
       "    </tr>\n",
       "    <tr>\n",
       "      <th>3661</th>\n",
       "      <td>청년센터아카이브</td>\n",
       "      <td>광주광역시</td>\n",
       "      <td>북구</td>\n",
       "      <td>작은도서관</td>\n",
       "      <td>월+국가지정공휴일</td>\n",
       "      <td>10:00</td>\n",
       "      <td>23:00</td>\n",
       "      <td>10:00</td>\n",
       "      <td>23:00</td>\n",
       "      <td>00:00</td>\n",
       "      <td>...</td>\n",
       "      <td>NaN</td>\n",
       "      <td>070-4175-0957</td>\n",
       "      <td>NaN</td>\n",
       "      <td>53.0</td>\n",
       "      <td>https://www.smalllibrary.org/library/detail/14...</td>\n",
       "      <td>35.177591</td>\n",
       "      <td>126.902378</td>\n",
       "      <td>2023-08-11</td>\n",
       "      <td>3620000</td>\n",
       "      <td>광주광역시 북구</td>\n",
       "    </tr>\n",
       "    <tr>\n",
       "      <th>3662</th>\n",
       "      <td>카리타스작은도서관</td>\n",
       "      <td>광주광역시</td>\n",
       "      <td>북구</td>\n",
       "      <td>작은도서관</td>\n",
       "      <td>토+일+국가지정공휴일</td>\n",
       "      <td>09:00</td>\n",
       "      <td>18:00</td>\n",
       "      <td>00:00</td>\n",
       "      <td>00:00</td>\n",
       "      <td>00:00</td>\n",
       "      <td>...</td>\n",
       "      <td>NaN</td>\n",
       "      <td>062-263-8200</td>\n",
       "      <td>NaN</td>\n",
       "      <td>71.2</td>\n",
       "      <td>https://www.smalllibrary.org/library/detail/18...</td>\n",
       "      <td>35.185439</td>\n",
       "      <td>126.900977</td>\n",
       "      <td>2023-08-11</td>\n",
       "      <td>3620000</td>\n",
       "      <td>광주광역시 북구</td>\n",
       "    </tr>\n",
       "  </tbody>\n",
       "</table>\n",
       "<p>3663 rows × 28 columns</p>\n",
       "</div>"
      ],
      "text/plain": [
       "              도서관명    시도명  시군구명  도서관유형                                 휴관일  \\\n",
       "0       이석영뉴미디어도서관    경기도  남양주시  공공도서관  둘째·넷째 금요일+1월 1일+설날·추석 연휴(대체공휴일 포함)   \n",
       "1       가평군 한석봉도서관    경기도   가평군  공공도서관                     1월 1일+설 연휴+추석연휴   \n",
       "2        가평군 설악도서관    경기도   가평군  공공도서관                     1월 1일+설 연휴+추석연휴   \n",
       "3        가평군 청평도서관    경기도   가평군  공공도서관                     1월 1일+설 연휴+추석연휴   \n",
       "4        가평군 조종도서관    경기도   가평군  공공도서관                     1월 1일+설 연휴+추석연휴   \n",
       "...            ...    ...   ...    ...                                 ...   \n",
       "3658        책돌이도서관  광주광역시    북구  작은도서관                                   일   \n",
       "3659      책향기작은도서관  광주광역시    북구  작은도서관                                   일   \n",
       "3660  첨단자이2단지작은도서관  광주광역시    북구  작은도서관                                 토+일   \n",
       "3661      청년센터아카이브  광주광역시    북구  작은도서관                           월+국가지정공휴일   \n",
       "3662     카리타스작은도서관  광주광역시    북구  작은도서관                         토+일+국가지정공휴일   \n",
       "\n",
       "     평일운영시작시각 평일운영종료시각 토요일운영시작시각 토요일운영종료시각 공휴일운영시작시각  ...      운영기관명  \\\n",
       "0       09:00    22:00     09:00     18:00     09:00  ...  사단법인 문화현상   \n",
       "1       07:00    23:59     07:00     23:59     07:00  ...    경기도 가평군   \n",
       "2       07:00    23:59     07:00     23:59     07:00  ...    경기도 가평군   \n",
       "3       07:00    23:59     07:00     23:59     07:00  ...    경기도 가평군   \n",
       "4       07:00    23:59     07:00     23:59     07:00  ...    경기도 가평군   \n",
       "...       ...      ...       ...       ...       ...  ...        ...   \n",
       "3658    11:00    17:00     11:00     17:00     00:00  ...        NaN   \n",
       "3659    10:00    19:00     10:00     15:00     00:00  ...        NaN   \n",
       "3660    09:00    18:00     00:00     00:00     00:00  ...        NaN   \n",
       "3661    10:00    23:00     10:00     23:00     00:00  ...        NaN   \n",
       "3662    09:00    18:00     00:00     00:00     00:00  ...        NaN   \n",
       "\n",
       "            도서관전화번호    부지면적    건물면적  \\\n",
       "0      031-595-8390  1843.0  4877.0   \n",
       "1      031-580-4041  7485.0  3602.0   \n",
       "2      031-580-4313  3693.0  1470.0   \n",
       "3      031-580-4332  4500.0  2486.0   \n",
       "4      031-580-4301  2692.0  1502.0   \n",
       "...             ...     ...     ...   \n",
       "3658   062-266-7279     NaN    99.0   \n",
       "3659   062-573-1357     NaN    66.0   \n",
       "3660   062-575-4451     NaN    46.1   \n",
       "3661  070-4175-0957     NaN    53.0   \n",
       "3662   062-263-8200     NaN    71.2   \n",
       "\n",
       "                                                 홈페이지주소         위도  \\\n",
       "0                              http://lib.nyj.go.kr/lsy  37.658160   \n",
       "1                                      www.gaplib.go.kr  37.829691   \n",
       "2                                      www.gaplib.go.kr  37.683315   \n",
       "3                                      www.gaplib.go.kr  37.739591   \n",
       "4                                      www.gaplib.go.kr  37.818290   \n",
       "...                                                 ...        ...   \n",
       "3658  https://www.smalllibrary.org/library/detail/10...  35.185846   \n",
       "3659  https://www.smalllibrary.org/library/detail/10...  35.190376   \n",
       "3660  https://www.smalllibrary.org/library/detail/10...  35.211195   \n",
       "3661  https://www.smalllibrary.org/library/detail/14...  35.177591   \n",
       "3662  https://www.smalllibrary.org/library/detail/18...  35.185439   \n",
       "\n",
       "              경도     데이터기준일자   제공기관코드     제공기관명  \n",
       "0     127.299532  2023-04-30  3990000  경기도 남양주시  \n",
       "1     127.506433  2023-06-21  4160000   경기도 가평군  \n",
       "2     127.491015  2023-06-21  4160000   경기도 가평군  \n",
       "3     127.424230  2023-06-21  4160000   경기도 가평군  \n",
       "4     127.352981  2023-06-21  4160000   경기도 가평군  \n",
       "...          ...         ...      ...       ...  \n",
       "3658  126.905078  2023-08-11  3620000  광주광역시 북구  \n",
       "3659  126.889310  2023-08-11  3620000  광주광역시 북구  \n",
       "3660  126.869272  2023-08-11  3620000  광주광역시 북구  \n",
       "3661  126.902378  2023-08-11  3620000  광주광역시 북구  \n",
       "3662  126.900977  2023-08-11  3620000  광주광역시 북구  \n",
       "\n",
       "[3663 rows x 28 columns]"
      ]
     },
     "execution_count": 30,
     "metadata": {},
     "output_type": "execute_result"
    }
   ],
   "source": [
    "df"
   ]
  },
  {
   "cell_type": "code",
   "execution_count": 31,
   "id": "64c27564",
   "metadata": {
    "scrolled": true
   },
   "outputs": [
    {
     "data": {
      "text/plain": [
       "18"
      ]
     },
     "execution_count": 31,
     "metadata": {},
     "output_type": "execute_result"
    }
   ],
   "source": [
    "df['시도명'].nunique()"
   ]
  },
  {
   "cell_type": "code",
   "execution_count": 35,
   "id": "3f437007",
   "metadata": {
    "scrolled": true
   },
   "outputs": [
    {
     "data": {
      "text/plain": [
       "array(['경기도', '대전광역시', '서울특별시', '경상북도', '부산광역시', '강원도', '충청남도', '경상남도',\n",
       "       '전라북도', '세종특별자치시', '대구광역시', '울산광역시', '전라남도', '광주광역시', '충청북도',\n",
       "       '강원특별자치도', '인천광역시', '제주특별자치도'], dtype=object)"
      ]
     },
     "execution_count": 35,
     "metadata": {},
     "output_type": "execute_result"
    }
   ],
   "source": [
    "df['시도명'].unique()"
   ]
  },
  {
   "cell_type": "code",
   "execution_count": 36,
   "id": "b8163311",
   "metadata": {
    "scrolled": true
   },
   "outputs": [
    {
     "data": {
      "text/plain": [
       "시도명\n",
       "서울특별시      542\n",
       "경기도        509\n",
       "경상남도       386\n",
       "광주광역시      353\n",
       "인천광역시      255\n",
       "대구광역시      241\n",
       "부산광역시      198\n",
       "경상북도       169\n",
       "전라북도       161\n",
       "울산광역시      146\n",
       "전라남도       129\n",
       "충청북도       115\n",
       "대전광역시      107\n",
       "강원도        103\n",
       "충청남도        94\n",
       "강원특별자치도     77\n",
       "제주특별자치도     56\n",
       "세종특별자치시     22\n",
       "Name: count, dtype: int64"
      ]
     },
     "execution_count": 36,
     "metadata": {},
     "output_type": "execute_result"
    }
   ],
   "source": [
    "df['시도명'].value_counts()"
   ]
  },
  {
   "cell_type": "code",
   "execution_count": 51,
   "id": "b6ec1d8c",
   "metadata": {},
   "outputs": [],
   "source": [
    "lib_location = df['시도명'].value_counts().index"
   ]
  },
  {
   "cell_type": "code",
   "execution_count": null,
   "id": "7b89d966",
   "metadata": {},
   "outputs": [],
   "source": [
    "plt.rc('font', family='Malgun Gothic')"
   ]
  },
  {
   "cell_type": "code",
   "execution_count": 54,
   "id": "d197a3d8",
   "metadata": {},
   "outputs": [
    {
     "name": "stderr",
     "output_type": "stream",
     "text": [
      "C:\\ProgramData\\anaconda3\\envs\\streamlit39\\lib\\site-packages\\seaborn\\_oldcore.py:1498: FutureWarning: is_categorical_dtype is deprecated and will be removed in a future version. Use isinstance(dtype, CategoricalDtype) instead\n",
      "  if pd.api.types.is_categorical_dtype(vector):\n",
      "C:\\ProgramData\\anaconda3\\envs\\streamlit39\\lib\\site-packages\\seaborn\\_oldcore.py:1498: FutureWarning: is_categorical_dtype is deprecated and will be removed in a future version. Use isinstance(dtype, CategoricalDtype) instead\n",
      "  if pd.api.types.is_categorical_dtype(vector):\n"
     ]
    },
    {
     "data": {
      "image/png": "[encoded data removed]",
      "text/plain": [
       "<Figure size 500x700 with 1 Axes>"
      ]
     },
     "metadata": {},
     "output_type": "display_data"
    }
   ],
   "source": [
    "plt.figure(figsize=(5,7))\n",
    "sb.countplot(data=df, y='시도명', order=lib_location)\n",
    "plt.show()"
   ]
  },
  {
   "cell_type": "code",
   "execution_count": null,
   "id": "7b6a671c",
   "metadata": {},
   "outputs": [],
   "source": []
  },
  {
   "cell_type": "code",
   "execution_count": 32,
   "id": "ae40b326",
   "metadata": {
    "scrolled": true
   },
   "outputs": [
    {
     "data": {
      "text/plain": [
       "213"
      ]
     },
     "execution_count": 32,
     "metadata": {},
     "output_type": "execute_result"
    }
   ],
   "source": [
    "df['시군구명'].nunique()"
   ]
  },
  {
   "cell_type": "code",
   "execution_count": 34,
   "id": "9b1c68cb",
   "metadata": {},
   "outputs": [
    {
     "data": {
      "text/plain": [
       "array(['남양주시', '가평군', '유성구', '성남시', '강동구', '양천구', '김천시', '기장군', '은평구',\n",
       "       '연천군', '속초시', '보령시', '사천시', '군산시', '없음', '달서구', '양평군', '북구', '안산시',\n",
       "       '중랑구', '서구', '파주시', '영암군', '동구', '순천시', '목포시', '나주시', '광양시', '고흥군',\n",
       "       '성동구', '중구', '여수시', '고양시', '청주시', '광명시', '청양군', '태백시', '고창군',\n",
       "       '양양군', '논산시', '창녕군', '삼척시', '양산시', '영동군', '광산구', '남구', '철원군',\n",
       "       '거제시', '거창군', '고성군', '김해시', '함평군', '군포시', '영덕군', '광진구', '부산진구',\n",
       "       '장흥군', '임실군', '안성시', '홍성군', '영주시', '진천군', '칠곡군', '증평군', '계양구',\n",
       "       '연수구', '합천군', '금천구', '포천시', '서울특별시 도봉구', '함양군', '태안군', '음성군',\n",
       "       '제천시', '옥천군', '영등포구', '제주시', '포항시청', '노원구\\u3000', '양구군', '영월군',\n",
       "       '익산시', '성주군', '진주시', '춘천시', '화성시', '영천시', '부평구', '영양군', '과천시',\n",
       "       '서대문구', '신안군', '안동시', '마포구', '금산군', '시흥시', '동해시', '포항시', '옹진군',\n",
       "       '금정구', '충주시', '동래구', '무안군', '의성군', '강서구', '달성군', '화천군', '남동구',\n",
       "       '산청군', '보은군', '정선군', '화순군', '강릉시', '구로구', '곡성군', '의령군', '강북구',\n",
       "       '연제구', '서귀포시', '울주군', '미추홀구', '창원시', '상주시', '울릉군', '하남시', '밀양시',\n",
       "       '진도군', '영도구', '평창군', '영광군', '단양군', '용산구', '양주시', '홍천군', '오산시',\n",
       "       '구리시', '의정부시', '정읍시', '서산시', '계룡시', '동두천시', '구례군', '보성군', '해남군',\n",
       "       '성북구', '강진군', '관악구', '함안군', '울진군', '경산시', '장성군', '담양군', '의왕시',\n",
       "       '원주시', '사상구', '송파구', '청도군', '공주시', '남해군', '창원시 마산합포구', '창원시 마산회원구',\n",
       "       '창원시 성산구', '통영시', '하동군', '강남구', '평택시', '사하구', '수성구', '부여군', '완주군',\n",
       "       '천안시', '군위군', '횡성군', '부안군', '구미시', '청원구', '서천군', '인제군', '예천군',\n",
       "       '청송군', '봉화군', '전주시', '남원시', '수영구', '동작구', '아산시', '완도군', '광주시',\n",
       "       '대덕구', '무주군', '당진시', '수원시', '서초구', '김포시', '강화군', '순창군', '김제시',\n",
       "       '진안군', '장수군', '경주시', '이천시', '괴산군 괴산읍', '부천시', '고령군', '예산군', '안양시',\n",
       "       '전주시 덕진구', '문경시', '종로구', '여주시', '용인시', '해운대구', '깅화군'], dtype=object)"
      ]
     },
     "execution_count": 34,
     "metadata": {},
     "output_type": "execute_result"
    }
   ],
   "source": [
    "df['시군구명'].unique()"
   ]
  },
  {
   "cell_type": "code",
   "execution_count": 33,
   "id": "7eddd439",
   "metadata": {},
   "outputs": [
    {
     "data": {
      "text/plain": [
       "7"
      ]
     },
     "execution_count": 33,
     "metadata": {},
     "output_type": "execute_result"
    }
   ],
   "source": [
    "df['도서관유형'].nunique()"
   ]
  },
  {
   "cell_type": "code",
   "execution_count": 59,
   "id": "40383244",
   "metadata": {},
   "outputs": [],
   "source": [
    "lib_category = df['도서관유형'].value_counts().index"
   ]
  },
  {
   "cell_type": "code",
   "execution_count": 60,
   "id": "9db2beb2",
   "metadata": {},
   "outputs": [
    {
     "name": "stderr",
     "output_type": "stream",
     "text": [
      "C:\\ProgramData\\anaconda3\\envs\\streamlit39\\lib\\site-packages\\seaborn\\_oldcore.py:1498: FutureWarning: is_categorical_dtype is deprecated and will be removed in a future version. Use isinstance(dtype, CategoricalDtype) instead\n",
      "  if pd.api.types.is_categorical_dtype(vector):\n",
      "C:\\ProgramData\\anaconda3\\envs\\streamlit39\\lib\\site-packages\\seaborn\\_oldcore.py:1498: FutureWarning: is_categorical_dtype is deprecated and will be removed in a future version. Use isinstance(dtype, CategoricalDtype) instead\n",
      "  if pd.api.types.is_categorical_dtype(vector):\n"
     ]
    },
    {
     "data": {
      "image/png": "[encoded data removed]",
      "text/plain": [
       "<Figure size 500x700 with 1 Axes>"
      ]
     },
     "metadata": {},
     "output_type": "display_data"
    }
   ],
   "source": [
    "plt.figure(figsize=(5,7))\n",
    "sb.countplot(data=df, y='도서관유형', order=lib_category)\n",
    "plt.show()"
   ]
  },
  {
   "cell_type": "code",
   "execution_count": null,
   "id": "821d5f27",
   "metadata": {},
   "outputs": [],
   "source": []
  },
  {
   "cell_type": "code",
   "execution_count": null,
   "id": "a5128caa",
   "metadata": {},
   "outputs": [],
   "source": []
  },
  {
   "cell_type": "code",
   "execution_count": null,
   "id": "52bc6eec",
   "metadata": {},
   "outputs": [],
   "source": []
  },
  {
   "cell_type": "code",
   "execution_count": null,
   "id": "7c1e6884",
   "metadata": {},
   "outputs": [],
   "source": []
  },
  {
   "cell_type": "code",
   "execution_count": null,
   "id": "8d09de72",
   "metadata": {},
   "outputs": [],
   "source": []
  },
  {
   "cell_type": "code",
   "execution_count": null,
   "id": "141a1676",
   "metadata": {},
   "outputs": [],
   "source": []
  },
  {
   "cell_type": "code",
   "execution_count": null,
   "id": "8d7c6975",
   "metadata": {},
   "outputs": [],
   "source": []
  },
  {
   "cell_type": "code",
   "execution_count": null,
   "id": "026d345c",
   "metadata": {},
   "outputs": [],
   "source": []
  },
  {
   "cell_type": "code",
   "execution_count": null,
   "id": "8de1a7dc",
   "metadata": {},
   "outputs": [],
   "source": []
  }
 ],
 "metadata": {
  "kernelspec": {
   "display_name": "Python 3 (ipykernel)",
   "language": "python",
   "name": "python3"
  },
  "language_info": {
   "codemirror_mode": {
    "name": "ipython",
    "version": 3
   },
   "file_extension": ".py",
   "mimetype": "text/x-python",
   "name": "python",
   "nbconvert_exporter": "python",
   "pygments_lexer": "ipython3",
   "version": "3.9.18"
  }
 },
 "nbformat": 4,
 "nbformat_minor": 5
}
