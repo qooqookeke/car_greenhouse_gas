{
 "cells": [
  {
   "cell_type": "code",
   "execution_count": 1,
   "id": "70e1b448",
   "metadata": {},
   "outputs": [],
   "source": [
    "import pandas as pd\n",
    "import numpy as np\n",
    "import matplotlib.pyplot as plt\n",
    "import seaborn as sb\n",
    "import matplotlib.font_manager as fm\n",
    "import matplotlib as mpl"
   ]
  },
  {
   "cell_type": "code",
   "execution_count": 2,
   "id": "8b03aae7",
   "metadata": {
    "scrolled": true
   },
   "outputs": [],
   "source": [
    "df = pd.read_csv('./data/hospital_data.csv', encoding='euc-kr')"
   ]
  },
  {
   "cell_type": "code",
   "execution_count": 3,
   "id": "578f24bf",
   "metadata": {},
   "outputs": [
    {
     "data": {
      "text/html": [
       "<div>\n",
       "<style scoped>\n",
       "    .dataframe tbody tr th:only-of-type {\n",
       "        vertical-align: middle;\n",
       "    }\n",
       "\n",
       "    .dataframe tbody tr th {\n",
       "        vertical-align: top;\n",
       "    }\n",
       "\n",
       "    .dataframe thead th {\n",
       "        text-align: right;\n",
       "    }\n",
       "</style>\n",
       "<table border=\"1\" class=\"dataframe\">\n",
       "  <thead>\n",
       "    <tr style=\"text-align: right;\">\n",
       "      <th></th>\n",
       "      <th>암호화요양기호</th>\n",
       "      <th>요양기관명</th>\n",
       "      <th>종별코드</th>\n",
       "      <th>종별코드명</th>\n",
       "      <th>시도코드</th>\n",
       "      <th>시도코드명</th>\n",
       "      <th>시군구코드</th>\n",
       "      <th>시군구코드명</th>\n",
       "      <th>읍면동</th>\n",
       "      <th>우편번호</th>\n",
       "      <th>...</th>\n",
       "      <th>치과인턴 인원수</th>\n",
       "      <th>치과레지던트 인원수</th>\n",
       "      <th>치과전문의 인원수</th>\n",
       "      <th>한방일반의 인원수</th>\n",
       "      <th>한방인턴 인원수</th>\n",
       "      <th>한방레지던트 인원수</th>\n",
       "      <th>한방전문의 인원수</th>\n",
       "      <th>조산사 인원수</th>\n",
       "      <th>좌표(X)</th>\n",
       "      <th>좌표(Y)</th>\n",
       "    </tr>\n",
       "  </thead>\n",
       "  <tbody>\n",
       "    <tr>\n",
       "      <th>0</th>\n",
       "      <td>JDQ4MTYyMiM1MSMkMSMkMCMkODkkMzgxMzUxIzExIyQxIy...</td>\n",
       "      <td>가톨릭대학교인천성모병원</td>\n",
       "      <td>1</td>\n",
       "      <td>상급종합</td>\n",
       "      <td>220000</td>\n",
       "      <td>인천</td>\n",
       "      <td>220003</td>\n",
       "      <td>인천부평구</td>\n",
       "      <td>부평동</td>\n",
       "      <td>21431</td>\n",
       "      <td>...</td>\n",
       "      <td>0</td>\n",
       "      <td>0</td>\n",
       "      <td>1</td>\n",
       "      <td>0</td>\n",
       "      <td>0</td>\n",
       "      <td>0</td>\n",
       "      <td>0</td>\n",
       "      <td>0</td>\n",
       "      <td>126.724899</td>\n",
       "      <td>37.484831</td>\n",
       "    </tr>\n",
       "    <tr>\n",
       "      <th>1</th>\n",
       "      <td>JDQ4MTYyMiM1MSMkMSMkNCMkODkkMzgxMzUxIzExIyQxIy...</td>\n",
       "      <td>강릉아산병원</td>\n",
       "      <td>1</td>\n",
       "      <td>상급종합</td>\n",
       "      <td>320000</td>\n",
       "      <td>강원</td>\n",
       "      <td>320100</td>\n",
       "      <td>강릉시</td>\n",
       "      <td>NaN</td>\n",
       "      <td>25440</td>\n",
       "      <td>...</td>\n",
       "      <td>0</td>\n",
       "      <td>0</td>\n",
       "      <td>2</td>\n",
       "      <td>0</td>\n",
       "      <td>0</td>\n",
       "      <td>0</td>\n",
       "      <td>0</td>\n",
       "      <td>0</td>\n",
       "      <td>128.857841</td>\n",
       "      <td>37.818433</td>\n",
       "    </tr>\n",
       "    <tr>\n",
       "      <th>2</th>\n",
       "      <td>JDQ4MTg4MSM1MSMkMSMkMCMkODkkMzgxMzUxIzExIyQxIy...</td>\n",
       "      <td>강북삼성병원</td>\n",
       "      <td>1</td>\n",
       "      <td>상급종합</td>\n",
       "      <td>110000</td>\n",
       "      <td>서울</td>\n",
       "      <td>110016</td>\n",
       "      <td>종로구</td>\n",
       "      <td>NaN</td>\n",
       "      <td>3181</td>\n",
       "      <td>...</td>\n",
       "      <td>0</td>\n",
       "      <td>0</td>\n",
       "      <td>4</td>\n",
       "      <td>0</td>\n",
       "      <td>0</td>\n",
       "      <td>0</td>\n",
       "      <td>0</td>\n",
       "      <td>0</td>\n",
       "      <td>126.967750</td>\n",
       "      <td>37.568408</td>\n",
       "    </tr>\n",
       "    <tr>\n",
       "      <th>3</th>\n",
       "      <td>JDQ4MTg4MSM1MSMkMSMkMCMkODkkMzgxMzUxIzExIyQxIy...</td>\n",
       "      <td>건국대학교병원</td>\n",
       "      <td>1</td>\n",
       "      <td>상급종합</td>\n",
       "      <td>110000</td>\n",
       "      <td>서울</td>\n",
       "      <td>110023</td>\n",
       "      <td>광진구</td>\n",
       "      <td>NaN</td>\n",
       "      <td>5030</td>\n",
       "      <td>...</td>\n",
       "      <td>0</td>\n",
       "      <td>0</td>\n",
       "      <td>3</td>\n",
       "      <td>0</td>\n",
       "      <td>0</td>\n",
       "      <td>0</td>\n",
       "      <td>0</td>\n",
       "      <td>0</td>\n",
       "      <td>127.071828</td>\n",
       "      <td>37.540376</td>\n",
       "    </tr>\n",
       "    <tr>\n",
       "      <th>4</th>\n",
       "      <td>JDQ4MTYyMiM4MSMkMSMkMCMkODkkMzgxMzUxIzExIyQxIy...</td>\n",
       "      <td>경북대학교병원</td>\n",
       "      <td>1</td>\n",
       "      <td>상급종합</td>\n",
       "      <td>230000</td>\n",
       "      <td>대구</td>\n",
       "      <td>230006</td>\n",
       "      <td>대구중구</td>\n",
       "      <td>NaN</td>\n",
       "      <td>41944</td>\n",
       "      <td>...</td>\n",
       "      <td>0</td>\n",
       "      <td>0</td>\n",
       "      <td>1</td>\n",
       "      <td>0</td>\n",
       "      <td>0</td>\n",
       "      <td>0</td>\n",
       "      <td>0</td>\n",
       "      <td>0</td>\n",
       "      <td>128.604703</td>\n",
       "      <td>35.866253</td>\n",
       "    </tr>\n",
       "    <tr>\n",
       "      <th>...</th>\n",
       "      <td>...</td>\n",
       "      <td>...</td>\n",
       "      <td>...</td>\n",
       "      <td>...</td>\n",
       "      <td>...</td>\n",
       "      <td>...</td>\n",
       "      <td>...</td>\n",
       "      <td>...</td>\n",
       "      <td>...</td>\n",
       "      <td>...</td>\n",
       "      <td>...</td>\n",
       "      <td>...</td>\n",
       "      <td>...</td>\n",
       "      <td>...</td>\n",
       "      <td>...</td>\n",
       "      <td>...</td>\n",
       "      <td>...</td>\n",
       "      <td>...</td>\n",
       "      <td>...</td>\n",
       "      <td>...</td>\n",
       "      <td>...</td>\n",
       "    </tr>\n",
       "    <tr>\n",
       "      <th>76244</th>\n",
       "      <td>JDU4MTI3MSM1MSMkMSMkMCMkMTMkNDgxOTYxIzExIyQxIy...</td>\n",
       "      <td>힘나는한의원</td>\n",
       "      <td>93</td>\n",
       "      <td>한의원</td>\n",
       "      <td>310000</td>\n",
       "      <td>경기</td>\n",
       "      <td>312300</td>\n",
       "      <td>김포시</td>\n",
       "      <td>NaN</td>\n",
       "      <td>10099</td>\n",
       "      <td>...</td>\n",
       "      <td>0</td>\n",
       "      <td>0</td>\n",
       "      <td>0</td>\n",
       "      <td>1</td>\n",
       "      <td>0</td>\n",
       "      <td>0</td>\n",
       "      <td>0</td>\n",
       "      <td>0</td>\n",
       "      <td>126.704889</td>\n",
       "      <td>37.632495</td>\n",
       "    </tr>\n",
       "    <tr>\n",
       "      <th>76245</th>\n",
       "      <td>JDQ4MTg4MSM1MSMkMSMkNCMkMTMkNDgxOTYxIzUxIyQxIy...</td>\n",
       "      <td>힘내라한의원</td>\n",
       "      <td>93</td>\n",
       "      <td>한의원</td>\n",
       "      <td>110000</td>\n",
       "      <td>서울</td>\n",
       "      <td>110003</td>\n",
       "      <td>강서구</td>\n",
       "      <td>NaN</td>\n",
       "      <td>7526</td>\n",
       "      <td>...</td>\n",
       "      <td>0</td>\n",
       "      <td>0</td>\n",
       "      <td>0</td>\n",
       "      <td>2</td>\n",
       "      <td>0</td>\n",
       "      <td>0</td>\n",
       "      <td>0</td>\n",
       "      <td>0</td>\n",
       "      <td>126.855061</td>\n",
       "      <td>37.561526</td>\n",
       "    </tr>\n",
       "    <tr>\n",
       "      <th>76246</th>\n",
       "      <td>JDQ4MTg4MSM1MSMkMSMkNCMkMTMkNDgxMzUxIzUxIyQxIy...</td>\n",
       "      <td>힘찬마디한의원</td>\n",
       "      <td>93</td>\n",
       "      <td>한의원</td>\n",
       "      <td>110000</td>\n",
       "      <td>서울</td>\n",
       "      <td>110002</td>\n",
       "      <td>강동구</td>\n",
       "      <td>천호동</td>\n",
       "      <td>5329</td>\n",
       "      <td>...</td>\n",
       "      <td>0</td>\n",
       "      <td>0</td>\n",
       "      <td>0</td>\n",
       "      <td>1</td>\n",
       "      <td>0</td>\n",
       "      <td>0</td>\n",
       "      <td>0</td>\n",
       "      <td>0</td>\n",
       "      <td>127.126346</td>\n",
       "      <td>37.538174</td>\n",
       "    </tr>\n",
       "    <tr>\n",
       "      <th>76247</th>\n",
       "      <td>JDQ4MTg4MSM1MSMkMSMkNCMkMTMkMzgxNzAyIzUxIyQxIy...</td>\n",
       "      <td>힘찬세상경희한의원</td>\n",
       "      <td>93</td>\n",
       "      <td>한의원</td>\n",
       "      <td>110000</td>\n",
       "      <td>서울</td>\n",
       "      <td>110014</td>\n",
       "      <td>용산구</td>\n",
       "      <td>한강로2가</td>\n",
       "      <td>4376</td>\n",
       "      <td>...</td>\n",
       "      <td>0</td>\n",
       "      <td>0</td>\n",
       "      <td>0</td>\n",
       "      <td>0</td>\n",
       "      <td>0</td>\n",
       "      <td>0</td>\n",
       "      <td>1</td>\n",
       "      <td>0</td>\n",
       "      <td>126.968167</td>\n",
       "      <td>37.530005</td>\n",
       "    </tr>\n",
       "    <tr>\n",
       "      <th>76248</th>\n",
       "      <td>JDQ4MTYyMiM4MSMkMSMkNCMkMTMkNDgxMzUxIzMxIyQxIy...</td>\n",
       "      <td>힘찬한의원</td>\n",
       "      <td>93</td>\n",
       "      <td>한의원</td>\n",
       "      <td>380000</td>\n",
       "      <td>경남</td>\n",
       "      <td>380500</td>\n",
       "      <td>진주시</td>\n",
       "      <td>NaN</td>\n",
       "      <td>52697</td>\n",
       "      <td>...</td>\n",
       "      <td>0</td>\n",
       "      <td>0</td>\n",
       "      <td>0</td>\n",
       "      <td>1</td>\n",
       "      <td>0</td>\n",
       "      <td>0</td>\n",
       "      <td>0</td>\n",
       "      <td>0</td>\n",
       "      <td>128.064558</td>\n",
       "      <td>35.178636</td>\n",
       "    </tr>\n",
       "  </tbody>\n",
       "</table>\n",
       "<p>76249 rows × 30 columns</p>\n",
       "</div>"
      ],
      "text/plain": [
       "                                                 암호화요양기호         요양기관명  종별코드  \\\n",
       "0      JDQ4MTYyMiM1MSMkMSMkMCMkODkkMzgxMzUxIzExIyQxIy...  가톨릭대학교인천성모병원     1   \n",
       "1      JDQ4MTYyMiM1MSMkMSMkNCMkODkkMzgxMzUxIzExIyQxIy...        강릉아산병원     1   \n",
       "2      JDQ4MTg4MSM1MSMkMSMkMCMkODkkMzgxMzUxIzExIyQxIy...        강북삼성병원     1   \n",
       "3      JDQ4MTg4MSM1MSMkMSMkMCMkODkkMzgxMzUxIzExIyQxIy...       건국대학교병원     1   \n",
       "4      JDQ4MTYyMiM4MSMkMSMkMCMkODkkMzgxMzUxIzExIyQxIy...       경북대학교병원     1   \n",
       "...                                                  ...           ...   ...   \n",
       "76244  JDU4MTI3MSM1MSMkMSMkMCMkMTMkNDgxOTYxIzExIyQxIy...        힘나는한의원    93   \n",
       "76245  JDQ4MTg4MSM1MSMkMSMkNCMkMTMkNDgxOTYxIzUxIyQxIy...        힘내라한의원    93   \n",
       "76246  JDQ4MTg4MSM1MSMkMSMkNCMkMTMkNDgxMzUxIzUxIyQxIy...       힘찬마디한의원    93   \n",
       "76247  JDQ4MTg4MSM1MSMkMSMkNCMkMTMkMzgxNzAyIzUxIyQxIy...     힘찬세상경희한의원    93   \n",
       "76248  JDQ4MTYyMiM4MSMkMSMkNCMkMTMkNDgxMzUxIzMxIyQxIy...         힘찬한의원    93   \n",
       "\n",
       "      종별코드명    시도코드 시도코드명   시군구코드 시군구코드명    읍면동   우편번호  ... 치과인턴 인원수  \\\n",
       "0      상급종합  220000    인천  220003  인천부평구    부평동  21431  ...        0   \n",
       "1      상급종합  320000    강원  320100    강릉시    NaN  25440  ...        0   \n",
       "2      상급종합  110000    서울  110016    종로구    NaN   3181  ...        0   \n",
       "3      상급종합  110000    서울  110023    광진구    NaN   5030  ...        0   \n",
       "4      상급종합  230000    대구  230006   대구중구    NaN  41944  ...        0   \n",
       "...     ...     ...   ...     ...    ...    ...    ...  ...      ...   \n",
       "76244   한의원  310000    경기  312300    김포시    NaN  10099  ...        0   \n",
       "76245   한의원  110000    서울  110003    강서구    NaN   7526  ...        0   \n",
       "76246   한의원  110000    서울  110002    강동구    천호동   5329  ...        0   \n",
       "76247   한의원  110000    서울  110014    용산구  한강로2가   4376  ...        0   \n",
       "76248   한의원  380000    경남  380500    진주시    NaN  52697  ...        0   \n",
       "\n",
       "      치과레지던트 인원수 치과전문의 인원수  한방일반의 인원수  한방인턴 인원수  한방레지던트 인원수  한방전문의 인원수  \\\n",
       "0              0         1          0         0           0          0   \n",
       "1              0         2          0         0           0          0   \n",
       "2              0         4          0         0           0          0   \n",
       "3              0         3          0         0           0          0   \n",
       "4              0         1          0         0           0          0   \n",
       "...          ...       ...        ...       ...         ...        ...   \n",
       "76244          0         0          1         0           0          0   \n",
       "76245          0         0          2         0           0          0   \n",
       "76246          0         0          1         0           0          0   \n",
       "76247          0         0          0         0           0          1   \n",
       "76248          0         0          1         0           0          0   \n",
       "\n",
       "       조산사 인원수       좌표(X)      좌표(Y)  \n",
       "0            0  126.724899  37.484831  \n",
       "1            0  128.857841  37.818433  \n",
       "2            0  126.967750  37.568408  \n",
       "3            0  127.071828  37.540376  \n",
       "4            0  128.604703  35.866253  \n",
       "...        ...         ...        ...  \n",
       "76244        0  126.704889  37.632495  \n",
       "76245        0  126.855061  37.561526  \n",
       "76246        0  127.126346  37.538174  \n",
       "76247        0  126.968167  37.530005  \n",
       "76248        0  128.064558  35.178636  \n",
       "\n",
       "[76249 rows x 30 columns]"
      ]
     },
     "execution_count": 3,
     "metadata": {},
     "output_type": "execute_result"
    }
   ],
   "source": [
    "df"
   ]
  },
  {
   "cell_type": "code",
   "execution_count": 4,
   "id": "ac6d10c4",
   "metadata": {},
   "outputs": [
    {
     "data": {
      "text/plain": [
       "Index(['암호화요양기호', '요양기관명', '종별코드', '종별코드명', '시도코드', '시도코드명', '시군구코드', '시군구코드명',\n",
       "       '읍면동', '우편번호', '주소', '전화번호', '병원홈페이지', '개설일자', '총의사수', '의과일반의 인원수',\n",
       "       '의과인턴 인원수', '의과레지던트 인원수', '의과전문의 인원수', '치과일반의 인원수', '치과인턴 인원수',\n",
       "       '치과레지던트 인원수', '치과전문의 인원수', '한방일반의 인원수', '한방인턴 인원수', '한방레지던트 인원수',\n",
       "       '한방전문의 인원수', '조산사 인원수', '좌표(X)', '좌표(Y)'],\n",
       "      dtype='object')"
      ]
     },
     "execution_count": 4,
     "metadata": {},
     "output_type": "execute_result"
    }
   ],
   "source": [
    "df.columns"
   ]
  },
  {
   "cell_type": "code",
   "execution_count": 5,
   "id": "34229843",
   "metadata": {},
   "outputs": [
    {
     "data": {
      "text/plain": [
       "array(['인천', '강원', '서울', '대구', '경남', '경기', '충남', '부산', '전북', '광주', '대전',\n",
       "       '충북', '울산', '전남', '경북', '세종시', '제주'], dtype=object)"
      ]
     },
     "execution_count": 5,
     "metadata": {},
     "output_type": "execute_result"
    }
   ],
   "source": [
    "df['시도코드명'].unique()"
   ]
  },
  {
   "cell_type": "code",
   "execution_count": 6,
   "id": "ff997249",
   "metadata": {},
   "outputs": [
    {
     "data": {
      "text/plain": [
       "17"
      ]
     },
     "execution_count": 6,
     "metadata": {},
     "output_type": "execute_result"
    }
   ],
   "source": [
    "df['시도코드명'].nunique()"
   ]
  },
  {
   "cell_type": "code",
   "execution_count": 7,
   "id": "931592e2",
   "metadata": {},
   "outputs": [],
   "source": [
    "# 시도코드명별 몇개의 병원이 있는가?"
   ]
  },
  {
   "cell_type": "code",
   "execution_count": 8,
   "id": "1431437c",
   "metadata": {},
   "outputs": [],
   "source": [
    "location = df['시도코드명'].value_counts().index"
   ]
  },
  {
   "cell_type": "code",
   "execution_count": 9,
   "id": "d35b15f1",
   "metadata": {},
   "outputs": [],
   "source": [
    "plt.rc('font', family='NanumGothic')"
   ]
  },
  {
   "cell_type": "code",
   "execution_count": 10,
   "id": "2f5406e4",
   "metadata": {},
   "outputs": [
    {
     "name": "stdout",
     "output_type": "stream",
     "text": [
      "버전:  3.8.0\n",
      "설치 위치:  C:\\ProgramData\\anaconda3\\envs\\streamlit39\\lib\\site-packages\\matplotlib\\__init__.py\n",
      "설정 위치:  C:\\Users\\505\\.matplotlib\n",
      "캐시 위치:  C:\\Users\\505\\.matplotlib\n"
     ]
    }
   ],
   "source": [
    "print ('버전: ', mpl.__version__)\n",
    "print ('설치 위치: ', mpl.__file__)\n",
    "print ('설정 위치: ', mpl.get_configdir())\n",
    "print ('캐시 위치: ', mpl.get_cachedir())"
   ]
  },
  {
   "cell_type": "code",
   "execution_count": 11,
   "id": "328f093a",
   "metadata": {
    "scrolled": true
   },
   "outputs": [
    {
     "name": "stdout",
     "output_type": "stream",
     "text": [
      "C:\\ProgramData\u0007naconda3\\envs\\streamlit39\\lib\\site-packages\\matplotlib\\mpl-data\\matplotlibrc:  C:\\ProgramData\\anaconda3\\envs\\streamlit39\\lib\\site-packages\\matplotlib\\mpl-data\\matplotlibrc\n"
     ]
    }
   ],
   "source": [
    "print ('C:\\ProgramData\\anaconda3\\envs\\streamlit39\\lib\\site-packages\\matplotlib\\mpl-data\\matplotlibrc: ', mpl.matplotlib_fname())"
   ]
  },
  {
   "cell_type": "code",
   "execution_count": 12,
   "id": "5c2a05da",
   "metadata": {},
   "outputs": [],
   "source": [
    "font_list = fm.findSystemFonts(fontpaths=None, fontext='ttf')"
   ]
  },
  {
   "cell_type": "code",
   "execution_count": 13,
   "id": "e45632e5",
   "metadata": {},
   "outputs": [
    {
     "name": "stdout",
     "output_type": "stream",
     "text": [
      "505\n"
     ]
    }
   ],
   "source": [
    "print(len(font_list)) "
   ]
  },
  {
   "cell_type": "code",
   "execution_count": 14,
   "id": "4eb8fff0",
   "metadata": {
    "scrolled": false
   },
   "outputs": [
    {
     "ename": "NameError",
     "evalue": "name 'matplotlib' is not defined",
     "output_type": "error",
     "traceback": [
      "\u001b[1;31m---------------------------------------------------------------------------\u001b[0m",
      "\u001b[1;31mNameError\u001b[0m                                 Traceback (most recent call last)",
      "Cell \u001b[1;32mIn[14], line 1\u001b[0m\n\u001b[1;32m----> 1\u001b[0m [f\u001b[38;5;241m.\u001b[39mname \u001b[38;5;28;01mfor\u001b[39;00m f \u001b[38;5;129;01min\u001b[39;00m \u001b[43mmatplotlib\u001b[49m\u001b[38;5;241m.\u001b[39mfont_manager\u001b[38;5;241m.\u001b[39mfontManager\u001b[38;5;241m.\u001b[39mttflist \u001b[38;5;28;01mif\u001b[39;00m \u001b[38;5;124m'\u001b[39m\u001b[38;5;124mNanum\u001b[39m\u001b[38;5;124m'\u001b[39m \u001b[38;5;129;01min\u001b[39;00m f\u001b[38;5;241m.\u001b[39mname]\n",
      "\u001b[1;31mNameError\u001b[0m: name 'matplotlib' is not defined"
     ]
    }
   ],
   "source": [
    "[f.name for f in matplotlib.font_manager.fontManager.ttflist if 'Nanum' in f.name]"
   ]
  },
  {
   "cell_type": "code",
   "execution_count": null,
   "id": "838dc448",
   "metadata": {},
   "outputs": [],
   "source": [
    "font_list"
   ]
  },
  {
   "cell_type": "code",
   "execution_count": null,
   "id": "5ad4df8c",
   "metadata": {},
   "outputs": [],
   "source": [
    "mpl.get_cachedir()"
   ]
  },
  {
   "cell_type": "code",
   "execution_count": null,
   "id": "6777faf3",
   "metadata": {},
   "outputs": [],
   "source": [
    "rm -rf /home/voda/.cache/matplotlib/*"
   ]
  },
  {
   "cell_type": "code",
   "execution_count": null,
   "id": "dc1d1cc6",
   "metadata": {},
   "outputs": [],
   "source": [
    "import matplotlib\n",
    "matplotlib.font_manager._rebuild()"
   ]
  },
  {
   "cell_type": "code",
   "execution_count": null,
   "id": "e4a9c7d6",
   "metadata": {},
   "outputs": [],
   "source": [
    "import matplotlib.font_manager as fm\n",
    "import warnings\n",
    "warnings.filterwarnings(action='ignore') \n",
    "\n",
    "path = '/usr/share/fonts/truetype/nanum/NanumGothic.ttf' # 나눔 고딕\n",
    "font_name = fm.FontProperties(fname=path, size=10).get_name() # 기본 폰트 사이즈 : 10\n",
    "plt.rc('font', family=font_name)\n",
    "fm._rebuild()"
   ]
  },
  {
   "cell_type": "code",
   "execution_count": null,
   "id": "ccddd845",
   "metadata": {},
   "outputs": [],
   "source": []
  },
  {
   "cell_type": "code",
   "execution_count": null,
   "id": "6b0f57e2",
   "metadata": {},
   "outputs": [],
   "source": []
  },
  {
   "cell_type": "code",
   "execution_count": null,
   "id": "b4a3f448",
   "metadata": {},
   "outputs": [],
   "source": []
  },
  {
   "cell_type": "code",
   "execution_count": null,
   "id": "62fbad2e",
   "metadata": {},
   "outputs": [],
   "source": []
  },
  {
   "cell_type": "code",
   "execution_count": null,
   "id": "db5b2f93",
   "metadata": {},
   "outputs": [],
   "source": []
  },
  {
   "cell_type": "code",
   "execution_count": null,
   "id": "9b4e9d01",
   "metadata": {},
   "outputs": [],
   "source": []
  },
  {
   "cell_type": "code",
   "execution_count": 15,
   "id": "4fa89d70",
   "metadata": {},
   "outputs": [
    {
     "name": "stderr",
     "output_type": "stream",
     "text": [
      "C:\\ProgramData\\anaconda3\\envs\\streamlit39\\lib\\site-packages\\seaborn\\_oldcore.py:1498: FutureWarning: is_categorical_dtype is deprecated and will be removed in a future version. Use isinstance(dtype, CategoricalDtype) instead\n",
      "  if pd.api.types.is_categorical_dtype(vector):\n",
      "C:\\ProgramData\\anaconda3\\envs\\streamlit39\\lib\\site-packages\\seaborn\\_oldcore.py:1498: FutureWarning: is_categorical_dtype is deprecated and will be removed in a future version. Use isinstance(dtype, CategoricalDtype) instead\n",
      "  if pd.api.types.is_categorical_dtype(vector):\n"
     ]
    },
    {
     "data": {
      "image/png": "[encoded data removed]",
      "text/plain": [
       "<Figure size 700x900 with 1 Axes>"
      ]
     },
     "metadata": {},
     "output_type": "display_data"
    }
   ],
   "source": [
    "plt.figure(figsize=(7,9))\n",
    "sb.countplot(data=df, y='시도코드명', order=location)\n",
    "plt.title('지역별 병원 수')\n",
    "plt.xlabel('병원 수')\n",
    "plt.ylabel('지역')\n",
    "plt.show()"
   ]
  },
  {
   "cell_type": "code",
   "execution_count": null,
   "id": "57cce292",
   "metadata": {},
   "outputs": [],
   "source": []
  },
  {
   "cell_type": "code",
   "execution_count": null,
   "id": "6b1f1c1f",
   "metadata": {},
   "outputs": [],
   "source": [
    "# 시도코드명별 비율을 파이차트로 나타내라"
   ]
  },
  {
   "cell_type": "code",
   "execution_count": null,
   "id": "82e8a854",
   "metadata": {},
   "outputs": [],
   "source": [
    "location1 = df['시도코드명'].value_counts()"
   ]
  },
  {
   "cell_type": "code",
   "execution_count": null,
   "id": "2d022876-245e-4a2f-b45f-7998bbf3c338",
   "metadata": {},
   "outputs": [],
   "source": [
    "location1.to_frame()"
   ]
  },
  {
   "cell_type": "code",
   "execution_count": null,
   "id": "0c83448d",
   "metadata": {},
   "outputs": [],
   "source": [
    "plt.figure(figsize=(7,7))\n",
    "plt.pie(location1, autopct='%.1f', startangle=90, wedgeprops={'width':0.7})\n",
    "plt.title('지역별 병원 수')\n",
    "plt.legend(location1.index)\n",
    "plt.show()"
   ]
  },
  {
   "cell_type": "code",
   "execution_count": null,
   "id": "1a92c4be",
   "metadata": {},
   "outputs": [],
   "source": [
    "df"
   ]
  },
  {
   "cell_type": "code",
   "execution_count": null,
   "id": "6e417249-e24c-4cd7-9143-af99ed7799f1",
   "metadata": {},
   "outputs": [],
   "source": [
    "df = df.iloc[:,1:28]"
   ]
  },
  {
   "cell_type": "code",
   "execution_count": null,
   "id": "627f39a3-1760-4309-b21f-99416e1fb0e2",
   "metadata": {},
   "outputs": [],
   "source": [
    "df"
   ]
  },
  {
   "cell_type": "code",
   "execution_count": null,
   "id": "396f8cbb-bd24-488b-8721-6aea955342d8",
   "metadata": {},
   "outputs": [],
   "source": [
    "df.iloc[:,4].unique()"
   ]
  },
  {
   "cell_type": "code",
   "execution_count": null,
   "id": "2c95ce45-a873-4b7c-bc3d-1c734df21bf6",
   "metadata": {},
   "outputs": [],
   "source": []
  },
  {
   "cell_type": "code",
   "execution_count": null,
   "id": "6def8094-00b1-4ca9-bbb1-58a76e7d9358",
   "metadata": {},
   "outputs": [],
   "source": []
  },
  {
   "cell_type": "code",
   "execution_count": null,
   "id": "d95b9fde-0ce3-4a34-bc2b-9a6dcaa7a22f",
   "metadata": {},
   "outputs": [],
   "source": []
  },
  {
   "cell_type": "code",
   "execution_count": null,
   "id": "3dc484cb-bcad-403a-8513-14aabd3f495b",
   "metadata": {},
   "outputs": [],
   "source": []
  },
  {
   "cell_type": "code",
   "execution_count": null,
   "id": "5da55edb",
   "metadata": {},
   "outputs": [],
   "source": [
    "# 경기 지역내 병원이 가장 많은 구군 중 상위 10곳은 어디인가?"
   ]
  },
  {
   "cell_type": "code",
   "execution_count": null,
   "id": "b08ff3e1",
   "metadata": {},
   "outputs": [],
   "source": [
    "df['시도코드명'] == '경기'"
   ]
  },
  {
   "cell_type": "code",
   "execution_count": null,
   "id": "094c665f",
   "metadata": {},
   "outputs": [],
   "source": [
    "gyeonggi = df.loc[df['시도코드명'] == '경기']"
   ]
  },
  {
   "cell_type": "code",
   "execution_count": null,
   "id": "56c52e7e",
   "metadata": {},
   "outputs": [],
   "source": [
    "gyeonggi"
   ]
  },
  {
   "cell_type": "code",
   "execution_count": null,
   "id": "41eeffea",
   "metadata": {},
   "outputs": [],
   "source": [
    "gyeonggi['시군구코드명'].value_counts()"
   ]
  },
  {
   "cell_type": "code",
   "execution_count": null,
   "id": "70e389fe",
   "metadata": {},
   "outputs": [],
   "source": [
    "order1 = gyeonggi['시군구코드명'].value_counts().head(10).index"
   ]
  },
  {
   "cell_type": "code",
   "execution_count": null,
   "id": "5bf20039",
   "metadata": {},
   "outputs": [],
   "source": [
    "order1"
   ]
  },
  {
   "cell_type": "code",
   "execution_count": null,
   "id": "8b8b6440",
   "metadata": {},
   "outputs": [],
   "source": [
    "sb.countplot(data= df, x='시군구코드명', order=order1)\n",
    "ax = sb.countplot(data=df, x='시군구코드명', order=order1)\n",
    "for p in ax.patches:\n",
    "    height = p.get_height()\n",
    "    ax.text(x = p.get_x() + p.get_width() / 2, \n",
    "            y = height + 20, \n",
    "            s = int(height), \n",
    "            ha = 'center', \n",
    "            size = 9)\n",
    "ax.set_ylim(0, 1200)\n",
    "plt.xticks(rotation = 60)\n",
    "plt.xlabel('지역')\n",
    "plt.ylabel('갯수')\n",
    "plt.show()"
   ]
  },
  {
   "cell_type": "code",
   "execution_count": null,
   "id": "7cfb27c1",
   "metadata": {},
   "outputs": [],
   "source": [
    "df"
   ]
  },
  {
   "cell_type": "code",
   "execution_count": null,
   "id": "53cb45bb",
   "metadata": {},
   "outputs": [],
   "source": [
    "# 상급종합 병원 수의 히스토그램 그리기"
   ]
  },
  {
   "cell_type": "code",
   "execution_count": null,
   "id": "da98efa2",
   "metadata": {
    "scrolled": true
   },
   "outputs": [],
   "source": [
    "df['종별코드명']=='상급종합'"
   ]
  },
  {
   "cell_type": "code",
   "execution_count": null,
   "id": "f8175634",
   "metadata": {},
   "outputs": [],
   "source": [
    "df.loc[df['종별코드명']=='상급종합']"
   ]
  },
  {
   "cell_type": "code",
   "execution_count": null,
   "id": "c74a8de0",
   "metadata": {},
   "outputs": [],
   "source": [
    "tgen_hos = df.loc[df['종별코드명']=='상급종합']"
   ]
  },
  {
   "cell_type": "code",
   "execution_count": null,
   "id": "7ca09ce7",
   "metadata": {
    "scrolled": true
   },
   "outputs": [],
   "source": [
    "tgen_hos.describe()"
   ]
  },
  {
   "cell_type": "code",
   "execution_count": null,
   "id": "7637d45e",
   "metadata": {},
   "outputs": [],
   "source": [
    "tgen_hos['총의사수'].describe()"
   ]
  },
  {
   "cell_type": "code",
   "execution_count": null,
   "id": "18c25126",
   "metadata": {},
   "outputs": [],
   "source": [
    "plt.hist(data=tgen_hos, x='총의사수', rwidth=0.9, bins=20)\n",
    "plt.show()"
   ]
  },
  {
   "cell_type": "code",
   "execution_count": null,
   "id": "2cf211a9",
   "metadata": {},
   "outputs": [],
   "source": [
    "df"
   ]
  },
  {
   "cell_type": "code",
   "execution_count": null,
   "id": "f24d1389",
   "metadata": {
    "scrolled": true
   },
   "outputs": [],
   "source": [
    "df['종별코드명'].unique()"
   ]
  },
  {
   "cell_type": "code",
   "execution_count": null,
   "id": "51db38fd",
   "metadata": {},
   "outputs": [],
   "source": [
    "df['종별코드명'].nunique()"
   ]
  },
  {
   "cell_type": "code",
   "execution_count": null,
   "id": "1a2539f9",
   "metadata": {},
   "outputs": [],
   "source": [
    "df = pd.read_csv('./data/hospital_data.csv', encoding='euc-kr')"
   ]
  },
  {
   "cell_type": "code",
   "execution_count": null,
   "id": "69182028",
   "metadata": {},
   "outputs": [],
   "source": [
    "df_location = df.iloc[:,[28,29]]"
   ]
  },
  {
   "cell_type": "code",
   "execution_count": null,
   "id": "1bc50361",
   "metadata": {},
   "outputs": [],
   "source": [
    "df_location"
   ]
  },
  {
   "cell_type": "code",
   "execution_count": null,
   "id": "b3c3225e",
   "metadata": {
    "scrolled": true
   },
   "outputs": [],
   "source": [
    "df_location = df.rename(columns={'좌표(Y)':'lat','좌표(X)':'lon'})"
   ]
  },
  {
   "cell_type": "code",
   "execution_count": null,
   "id": "cdedb2fe",
   "metadata": {},
   "outputs": [],
   "source": [
    "df_location = df_location[['lat','lon']]"
   ]
  },
  {
   "cell_type": "code",
   "execution_count": null,
   "id": "a1739863",
   "metadata": {},
   "outputs": [],
   "source": [
    "df_location"
   ]
  },
  {
   "cell_type": "code",
   "execution_count": null,
   "id": "fbf39f53",
   "metadata": {},
   "outputs": [],
   "source": []
  },
  {
   "cell_type": "code",
   "execution_count": null,
   "id": "99ac613b",
   "metadata": {},
   "outputs": [],
   "source": [
    "df"
   ]
  },
  {
   "cell_type": "code",
   "execution_count": null,
   "id": "c7f01dc3-9077-4429-9cee-e755097e714e",
   "metadata": {},
   "outputs": [],
   "source": [
    "df_search = df.iloc[:,[1,10,11,12,28,29]]"
   ]
  },
  {
   "cell_type": "code",
   "execution_count": null,
   "id": "6b528db7-2bee-477a-9bf8-cdf5448698f2",
   "metadata": {},
   "outputs": [],
   "source": [
    "df_search = df_search.rename(columns={'요양기관명':'병원명','좌표(Y)':'lat','좌표(X)':'lon'})"
   ]
  },
  {
   "cell_type": "code",
   "execution_count": null,
   "id": "452506d1-4a32-465d-a1f2-53394867ca66",
   "metadata": {},
   "outputs": [],
   "source": [
    "df_search"
   ]
  },
  {
   "cell_type": "code",
   "execution_count": null,
   "id": "ab4a3d16-9c69-4979-b710-36386efb1659",
   "metadata": {},
   "outputs": [],
   "source": [
    "df_search = df_search[['병원명','주소','전화번호','병원홈페이지','lat','lon']]"
   ]
  },
  {
   "cell_type": "code",
   "execution_count": null,
   "id": "ba12917d-ca73-400d-b54c-684bc9cceb11",
   "metadata": {},
   "outputs": [],
   "source": [
    "df_search"
   ]
  },
  {
   "cell_type": "code",
   "execution_count": null,
   "id": "655bd188-c763-45d3-8676-8411cea9b05d",
   "metadata": {},
   "outputs": [],
   "source": [
    "df_search['병원홈페이지'] = df_search['병원홈페이지'].fillna('-')"
   ]
  },
  {
   "cell_type": "code",
   "execution_count": null,
   "id": "d3d88da1",
   "metadata": {
    "scrolled": true
   },
   "outputs": [],
   "source": [
    "df_search"
   ]
  },
  {
   "cell_type": "code",
   "execution_count": null,
   "id": "aab175a5",
   "metadata": {},
   "outputs": [],
   "source": []
  },
  {
   "cell_type": "code",
   "execution_count": null,
   "id": "6017a0a8",
   "metadata": {},
   "outputs": [],
   "source": [
    "hos_name = df_search['병원명'].str.contains('아산')"
   ]
  },
  {
   "cell_type": "code",
   "execution_count": null,
   "id": "5a5a74f7",
   "metadata": {},
   "outputs": [],
   "source": [
    "hos_name"
   ]
  },
  {
   "cell_type": "code",
   "execution_count": null,
   "id": "8bd36ae7-85b2-437e-ae0b-c9aedd30e8ed",
   "metadata": {},
   "outputs": [],
   "source": [
    "df2 = df_search.loc[hos_name]"
   ]
  },
  {
   "cell_type": "code",
   "execution_count": null,
   "id": "46e34c2f",
   "metadata": {},
   "outputs": [],
   "source": [
    "df2"
   ]
  },
  {
   "cell_type": "code",
   "execution_count": null,
   "id": "85938dad",
   "metadata": {},
   "outputs": [],
   "source": [
    "df2.loc[:, 'lat'].isin(['-']) == True"
   ]
  },
  {
   "cell_type": "code",
   "execution_count": null,
   "id": "cdcc3be4",
   "metadata": {},
   "outputs": [],
   "source": [
    "df2"
   ]
  },
  {
   "cell_type": "code",
   "execution_count": null,
   "id": "586e8c2c",
   "metadata": {
    "scrolled": true
   },
   "outputs": [],
   "source": [
    "df2.loc[:,'lat':'lon'].dropna()"
   ]
  },
  {
   "cell_type": "code",
   "execution_count": null,
   "id": "a9cc34cb",
   "metadata": {},
   "outputs": [],
   "source": [
    "mapdata = df2.loc[:,'lat':'lon'].dropna()"
   ]
  },
  {
   "cell_type": "code",
   "execution_count": null,
   "id": "83a79b15",
   "metadata": {},
   "outputs": [],
   "source": [
    "mapdata"
   ]
  },
  {
   "cell_type": "code",
   "execution_count": null,
   "id": "3ba3f0f3",
   "metadata": {},
   "outputs": [],
   "source": [
    "df2.loc[df2.loc[:,'lat':'lon'] != '-']"
   ]
  },
  {
   "cell_type": "code",
   "execution_count": null,
   "id": "c1e6af3b",
   "metadata": {},
   "outputs": [],
   "source": []
  },
  {
   "cell_type": "code",
   "execution_count": null,
   "id": "a965a5a3",
   "metadata": {},
   "outputs": [],
   "source": []
  },
  {
   "cell_type": "code",
   "execution_count": null,
   "id": "b7006af6-3f2c-4a3b-b8bd-ef3506fa0d30",
   "metadata": {},
   "outputs": [],
   "source": []
  },
  {
   "cell_type": "code",
   "execution_count": null,
   "id": "9782dfae-badb-4e7f-8276-226bb309a4ab",
   "metadata": {},
   "outputs": [],
   "source": []
  },
  {
   "cell_type": "code",
   "execution_count": null,
   "id": "9a044ee7",
   "metadata": {},
   "outputs": [],
   "source": []
  },
  {
   "cell_type": "code",
   "execution_count": null,
   "id": "c318d62b",
   "metadata": {},
   "outputs": [],
   "source": []
  },
  {
   "cell_type": "code",
   "execution_count": null,
   "id": "7159cff9",
   "metadata": {},
   "outputs": [],
   "source": []
  },
  {
   "cell_type": "code",
   "execution_count": null,
   "id": "4cabdbd7",
   "metadata": {},
   "outputs": [],
   "source": [
    "# 연습문제"
   ]
  },
  {
   "cell_type": "code",
   "execution_count": null,
   "id": "d9c34a92",
   "metadata": {},
   "outputs": [],
   "source": [
    "df['시도코드명'] == '인천'"
   ]
  },
  {
   "cell_type": "code",
   "execution_count": null,
   "id": "937643eb",
   "metadata": {},
   "outputs": [],
   "source": [
    "df.loc[df['시도코드명'] == '인천']"
   ]
  },
  {
   "cell_type": "code",
   "execution_count": null,
   "id": "358f129c",
   "metadata": {},
   "outputs": [],
   "source": [
    "incheon = df.loc[df['시도코드명'] == '인천']"
   ]
  },
  {
   "cell_type": "code",
   "execution_count": null,
   "id": "dad055a5",
   "metadata": {
    "scrolled": true
   },
   "outputs": [],
   "source": [
    "incheon['시군구코드명'].value_counts()"
   ]
  },
  {
   "cell_type": "code",
   "execution_count": null,
   "id": "ea16d046",
   "metadata": {},
   "outputs": [],
   "source": [
    "data1 = incheon['시군구코드명'].value_counts()"
   ]
  },
  {
   "cell_type": "code",
   "execution_count": null,
   "id": "1ddfb71f",
   "metadata": {
    "scrolled": true
   },
   "outputs": [],
   "source": [
    "data1.describe()"
   ]
  },
  {
   "cell_type": "code",
   "execution_count": null,
   "id": "f843d509",
   "metadata": {},
   "outputs": [],
   "source": [
    "data1"
   ]
  },
  {
   "cell_type": "code",
   "execution_count": null,
   "id": "c7a41ab1",
   "metadata": {},
   "outputs": [],
   "source": []
  },
  {
   "cell_type": "code",
   "execution_count": null,
   "id": "68fa268f",
   "metadata": {},
   "outputs": [],
   "source": []
  }
 ],
 "metadata": {
  "kernelspec": {
   "display_name": "Python 3 (ipykernel)",
   "language": "python",
   "name": "python3"
  },
  "language_info": {
   "codemirror_mode": {
    "name": "ipython",
    "version": 3
   },
   "file_extension": ".py",
   "mimetype": "text/x-python",
   "name": "python",
   "nbconvert_exporter": "python",
   "pygments_lexer": "ipython3",
   "version": "3.9.18"
  }
 },
 "nbformat": 4,
 "nbformat_minor": 5
}
